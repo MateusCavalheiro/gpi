{
 "cells": [
  {
   "cell_type": "code",
   "execution_count": null,
   "id": "62b5ff32",
   "metadata": {},
   "outputs": [],
   "source": [
    "import pandas\n",
    "import numpy as np\n",
    "import matplotlib.pyplot as plt\n",
    "x = 2"
   ]
  },
  {
   "cell_type": "markdown",
   "id": "7652f662",
   "metadata": {},
   "source": [
    "anotações"
   ]
  },
  {
   "cell_type": "code",
   "execution_count": 2,
   "id": "d745215e",
   "metadata": {},
   "outputs": [
    {
     "name": "stdout",
     "output_type": "stream",
     "text": [
      "The sum of 2 and 2 is 4.\n"
     ]
    }
   ],
   "source": [
    "y = 2\n",
    "\n",
    "z = x + y\n",
    "print(f\"The sum of {x} and {y} is {z}.\")"
   ]
  }
 ],
 "metadata": {
  "kernelspec": {
   "display_name": "venv",
   "language": "python",
   "name": "python3"
  },
  "language_info": {
   "codemirror_mode": {
    "name": "ipython",
    "version": 3
   },
   "file_extension": ".py",
   "mimetype": "text/x-python",
   "name": "python",
   "nbconvert_exporter": "python",
   "pygments_lexer": "ipython3",
   "version": "3.11.1"
  }
 },
 "nbformat": 4,
 "nbformat_minor": 5
}
