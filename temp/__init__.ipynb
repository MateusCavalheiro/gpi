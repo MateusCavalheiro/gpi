{
 "cells": [
  {
   "cell_type": "code",
   "execution_count": null,
   "metadata": {},
   "outputs": [
    {
     "name": "stdout",
     "output_type": "stream",
     "text": [
      "Ocorreu um erro ao tentar abrir uma nova janela na sessão do Sap atual.\n"
     ]
    }
   ],
   "source": [
    "from sap_module import Sap_automato\n",
    "from pim_module import Q_pim\n",
    "from gpi_module import Gpi\n",
    "import pandas as pd\n",
    "from sap_module import Sap_automato\n",
    "from datetime import datetime, timedelta\n",
    "import pyperclip\n",
    "import time\n",
    "import win32com.client\n",
    "import os\n",
    "\n",
    "def salvar_ultimo_arquivo_excel(caminho_destino, nome_planilha, ano, semana):\n",
    "        \n",
    "    try:\n",
    "        # Conectar ao Excel se estiver aberto\n",
    "        excel = win32com.client.GetActiveObject(\"Excel.Application\")\n",
    "\n",
    "        # Verificar se há arquivos abertos\n",
    "        if excel.Workbooks.Count == 0:\n",
    "            print(\"Nenhum arquivo do Excel está aberto.\")\n",
    "            return\n",
    "        \n",
    "        # Selecionar o último arquivo aberto\n",
    "        ultimo_arquivo = excel.Workbooks(excel.Workbooks.Count)\n",
    "\n",
    "        # Definir o caminho de destino\n",
    "        if nome_planilha == None:\n",
    "            nome_arquivo = os.path.basename(ultimo_arquivo.FullName + '.xlsx')  # Pega o nome original do arquivo\n",
    "        else:\n",
    "            nome_arquivo = nome_planilha + '_' +str(ano) + '_' + str(semana) + '.xlsx'\n",
    "        caminho_completo = os.path.join(caminho_destino, nome_arquivo)\n",
    "\n",
    "        # Salvar cópia na nova pasta\n",
    "        ultimo_arquivo.SaveCopyAs(caminho_completo)\n",
    "\n",
    "        print(f\"Arquivo salvo em: {caminho_completo}\")\n",
    "\n",
    "    except Exception as e:\n",
    "        print(f\"Erro ao salvar o arquivo: {e}\")\n",
    "\n",
    "session = Sap_automato().sap_login()"
   ]
  },
  {
   "cell_type": "code",
   "execution_count": 2,
   "metadata": {},
   "outputs": [
    {
     "name": "stdout",
     "output_type": "stream",
     "text": [
      "Quantidade de janelas 1\n"
     ]
    }
   ],
   "source": [
    "session2 = Sap_automato().sap_login()"
   ]
  },
  {
   "cell_type": "code",
   "execution_count": null,
   "metadata": {},
   "outputs": [],
   "source": [
    "session.findById(\"wnd[0]\").maximize()\n",
    "session.findById(\"wnd[0]/tbar[0]/okcd\").text = \"/niw37\"\n",
    "session.findById(\"wnd[0]\").sendVKey(0)\n",
    "session.findById(\"wnd[0]\").sendVKey(17)\n",
    "session.findById(\"wnd[1]/usr/txtV-LOW\").text = \"PIM-PROG-SEDE\"\n",
    "session.findById(\"wnd[1]/usr/txtENAME-LOW\").text = \"\"\n",
    "session.findById(\"wnd[1]\").sendVKey(0)\n",
    "session.findById(\"wnd[1]\").sendVKey(8) #f8 para confirmar\n",
    "###nesta etapa fazer clipboard dos centros\n",
    "#df_sem_duplicatas_centroTrabalho['centroTrabalho'].to_clipboard(index=False, header=False)\n",
    "\n",
    "session.findById(\"wnd[0]/usr/btn%_ARBPL_%_APP_%-VALU_PUSH\").press()\n",
    "session.findById(\"wnd[1]\").sendVKey(16) #Apaga todos os dados \n",
    "session.findById(\"wnd[1]/usr/tabsTAB_STRIP/tabpSIVA/ssubSCREEN_HEADER:SAPLALDB:3010/tblSAPLALDBSINGLE/ctxtRSCSEL_255-SLOW_I[1,0]\").text = \"*\" #Insere o asterisco para pegar todos valores\n",
    "\n",
    "session.findById(\"wnd[0]\").sendVKey(8) #executa com o clipboard atual\n"
   ]
  },
  {
   "cell_type": "code",
   "execution_count": 10,
   "metadata": {},
   "outputs": [],
   "source": [
    "session.findById(\"wnd[0]\").sendVKey(8) #executa com o clipboard atual"
   ]
  },
  {
   "cell_type": "code",
   "execution_count": null,
   "metadata": {},
   "outputs": [],
   "source": []
  },
  {
   "cell_type": "code",
   "execution_count": 21,
   "metadata": {},
   "outputs": [
    {
     "ename": "TypeError",
     "evalue": "Gpi.save_schedule_gpisrefino() missing 2 required positional arguments: 'semana' and 'ano'",
     "output_type": "error",
     "traceback": [
      "\u001b[31m---------------------------------------------------------------------------\u001b[39m",
      "\u001b[31mTypeError\u001b[39m                                 Traceback (most recent call last)",
      "\u001b[36mCell\u001b[39m\u001b[36m \u001b[39m\u001b[32mIn[21]\u001b[39m\u001b[32m, line 3\u001b[39m\n\u001b[32m      1\u001b[39m g = Gpi()\n\u001b[32m----> \u001b[39m\u001b[32m3\u001b[39m teste = \u001b[43mg\u001b[49m\u001b[43m.\u001b[49m\u001b[43msave_schedule_gpisrefino\u001b[49m\u001b[43m(\u001b[49m\u001b[43m)\u001b[49m\n\u001b[32m      5\u001b[39m teste\n",
      "\u001b[31mTypeError\u001b[39m: Gpi.save_schedule_gpisrefino() missing 2 required positional arguments: 'semana' and 'ano'"
     ]
    }
   ],
   "source": [
    "g = Gpi()\n",
    "\n",
    "teste = g.save_schedule_gpisrefino()\n",
    "\n",
    "teste"
   ]
  },
  {
   "cell_type": "code",
   "execution_count": 2,
   "metadata": {},
   "outputs": [
    {
     "name": "stdout",
     "output_type": "stream",
     "text": [
      "✅ Concluído! Carregando...\n"
     ]
    }
   ],
   "source": [
    "from yaspin import yaspin\n",
    "import time\n",
    "\n",
    "with yaspin(text=\"Carregando...\", color=\"cyan\") as spinner:\n",
    "    time.sleep(3)  # Simula algum processamento\n",
    "    spinner.ok(\"✅ Concluído!\")\n"
   ]
  }
 ],
 "metadata": {
  "kernelspec": {
   "display_name": "venv",
   "language": "python",
   "name": "python3"
  },
  "language_info": {
   "codemirror_mode": {
    "name": "ipython",
    "version": 3
   },
   "file_extension": ".py",
   "mimetype": "text/x-python",
   "name": "python",
   "nbconvert_exporter": "python",
   "pygments_lexer": "ipython3",
   "version": "3.11.1"
  }
 },
 "nbformat": 4,
 "nbformat_minor": 2
}
